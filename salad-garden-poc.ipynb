{
 "cells": [
  {
   "cell_type": "code",
   "execution_count": 1,
   "metadata": {},
   "outputs": [],
   "source": [
    "import newspaper as news\n",
    "import requests\n",
    "import scrapy\n",
    "from urllib.parse import urlparse, parse_qs\n",
    "from html.parser import HTMLParser"
   ]
  },
  {
   "cell_type": "code",
   "execution_count": 3,
   "metadata": {},
   "outputs": [],
   "source": [
    "INITIAL_URL = \"https://accounts.wsj.com/login?target=https%3A%2F%2Fwww.wsj.com%2F\"\n",
    "LOGIN_URL = \"https://sso.accounts.dowjones.com/usernamepassword/login\"\n",
    "payload = {\n",
    "    \"username\": \"\",  ## TODO: change to make username/password to read runtime input\n",
    "    \"password\": \"\",\n",
    "    \"tenant\": \"sso\"\n",
    "}\n",
    "\n",
    "## Initialize session\n",
    "s = requests.Session()"
   ]
  },
  {
   "cell_type": "code",
   "execution_count": 4,
   "metadata": {},
   "outputs": [],
   "source": [
    "\"\"\"\n",
    " WSJ log-in has some kind of hops. We need to go to INITIAL_URL to get redirected to \n",
    " the dowjones universal log in page with a bunch of cookie info. Then we will use \n",
    " the cookie info to post to the real log in form. This will return another callback\n",
    " page, that we will need to parse and read the content (in html) and post to a url\n",
    " again to actually log in to WSJ.\n",
    "\"\"\"\n",
    "\n",
    "# Getting the redirection here. Read the delicious cookie\n",
    "init_r = s.get(INITIAL_URL)\n",
    "params = parse_qs(urlparse(init_r.url).query)\n",
    "for key, value in params.items():\n",
    "    value = value[0]\n",
    "    if key == \"client\": \n",
    "        payload[key + \"_id\"] = value\n",
    "    else:\n",
    "        payload[key] = value"
   ]
  },
  {
   "cell_type": "code",
   "execution_count": 5,
   "metadata": {},
   "outputs": [],
   "source": [
    "# Post to the dowjones log-in page to get the call back\n",
    "login_r = s.post(LOGIN_URL, data=payload)"
   ]
  },
  {
   "cell_type": "code",
   "execution_count": 7,
   "metadata": {},
   "outputs": [],
   "source": [
    "# Parse the callback page to get formdata to post again\n",
    "class CustomHTMLParser(HTMLParser):\n",
    "    url = ''\n",
    "    form_data = {}\n",
    "    def handle_starttag(self, tag, attrs):\n",
    "        if tag == \"form\":\n",
    "            for key, value in attrs:\n",
    "                if key == \"action\":\n",
    "                    self.url = value\n",
    "        \n",
    "        if tag == \"input\":\n",
    "            name = \"\"\n",
    "            value = \"\"\n",
    "            for key, val in attrs:\n",
    "                if key == \"name\": \n",
    "                    name = val\n",
    "                if key == \"value\":\n",
    "                    value = val\n",
    "            if name:\n",
    "                self.form_data[name] = value\n",
    "\n",
    "html_parser = CustomHTMLParser()\n",
    "html_parser.feed(login_r.text)"
   ]
  },
  {
   "cell_type": "code",
   "execution_count": 8,
   "metadata": {},
   "outputs": [],
   "source": [
    "# Post to the callback page to get a redirect link. Due to the double hop here we need to\n",
    "# stop the first redirection and use a GET ourself\n",
    "callback_r = s.post(html_parser.url, data=html_parser.form_data, allow_redirects=False)\n",
    "\n",
    "# A quick check here is callback_r.status_code should return 302\n",
    "\n",
    "# This time we will allow the automatic redirection. And... hooray! We are logged in\n",
    "# What happens is that it hops and get another 302, and then redirect again to wsj.com \n",
    "# with a final 200 return\n",
    "callback_r = s.get(callback_r.text[22:])"
   ]
  }
 ],
 "metadata": {
  "kernelspec": {
   "display_name": "Python 3",
   "language": "python",
   "name": "python3"
  },
  "language_info": {
   "codemirror_mode": {
    "name": "ipython",
    "version": 3
   },
   "file_extension": ".py",
   "mimetype": "text/x-python",
   "name": "python",
   "nbconvert_exporter": "python",
   "pygments_lexer": "ipython3",
   "version": "3.7.2"
  }
 },
 "nbformat": 4,
 "nbformat_minor": 2
}
